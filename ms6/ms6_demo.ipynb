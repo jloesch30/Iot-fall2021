{
 "cells": [
  {
   "cell_type": "code",
   "execution_count": 1,
   "id": "8a449022-b2cc-4b3d-af2a-293736cd5f25",
   "metadata": {},
   "outputs": [],
   "source": [
    "import numpy as np\n",
    "from numpy.random import seed"
   ]
  },
  {
   "cell_type": "code",
   "execution_count": 3,
   "id": "b85bb583-5219-4984-98bf-2d4266205416",
   "metadata": {},
   "outputs": [],
   "source": [
    "class OriginalModel():\n",
    "    def __init__(self, w0, w1, w2, w3):\n",
    "        self.w0 = w0\n",
    "        self.w1 = w1\n",
    "        self.w2 = w2\n",
    "        self.w3 = w3\n",
    "        \n",
    "    def predict(self, X):\n",
    "        return (self.w0 + self.w1*X[0] + self.w2*X[1] + self.w3*X[2])"
   ]
  },
  {
   "cell_type": "code",
   "execution_count": 26,
   "id": "c2880303-b1a0-4df6-9614-b0c890c6bded",
   "metadata": {},
   "outputs": [],
   "source": [
    "from numpy.random import seed\n",
    "\n",
    "class AdalineSGD(object):\n",
    "    def __init__(self, eta=0.01, n_iter=10, shuffle=True, random_state=None):\n",
    "        self.eta = eta\n",
    "        self.n_iter = n_iter\n",
    "        self.w_initialized = False\n",
    "        self.shuffle = shuffle\n",
    "        if random_state:\n",
    "            seed(random_state)\n",
    "        \n",
    "    def fit(self, X, y):\n",
    "        X = np.array(X)\n",
    "        y = np.array(y)\n",
    "        self._initialize_weights(X.shape[1])\n",
    "        self.cost_ = []\n",
    "        for i in range(self.n_iter):\n",
    "            if self.shuffle:\n",
    "                X, y = self._shuffle(X, y)\n",
    "            cost = []\n",
    "            for xi, target in zip(X, y):\n",
    "                cost.append(self._update_weights(xi, target))\n",
    "            avg_cost = sum(cost) / len(y)\n",
    "            self.cost_.append(avg_cost)\n",
    "        return self\n",
    "\n",
    "    def partial_fit(self, X, y):\n",
    "        X = np.array(X)\n",
    "        y = np.array(y)\n",
    "        \"\"\"Fit training data without reinitializing the weights\"\"\"\n",
    "        if not self.w_initialized:\n",
    "            self._initialize_weights(X.shape[1])\n",
    "        if y.ravel().shape[0] > 1:\n",
    "            for xi, target in zip(X, y):\n",
    "                self._update_weights(xi, target)\n",
    "        else:\n",
    "            self._update_weights(X, y)\n",
    "        return self\n",
    "\n",
    "    def _shuffle(self, X, y):\n",
    "        X = np.array(X)\n",
    "        y = np.array(y)\n",
    "        \"\"\"Shuffle training data\"\"\"\n",
    "        r = np.random.permutation(len(y))\n",
    "        return X[r], y[r]\n",
    "    \n",
    "    def _initialize_weights(self, m):\n",
    "        \"\"\"Initialize weights to zeros\"\"\"\n",
    "        self.w_ = np.zeros(1 + m)\n",
    "        self.w_initialized = True\n",
    "        \n",
    "    def _update_weights(self, xi, target):\n",
    "        \"\"\"Apply Adaline learning rule to update the weights\"\"\"\n",
    "        output = self.net_input(xi)\n",
    "        error = (target - output)\n",
    "        self.w_[1:] += self.eta * xi.dot(error)\n",
    "        self.w_[0] += self.eta * error\n",
    "        cost = 0.5 * error**2\n",
    "        return cost\n",
    "    \n",
    "    def net_input(self, X):\n",
    "        absX = np.array(X)\n",
    "        \"\"\"Calculate net input\"\"\"\n",
    "        return np.dot(X, self.w_[1:]) + self.w_[0]\n",
    "\n",
    "    def activation(self, X):\n",
    "        \"\"\"Compute linear activation\"\"\"\n",
    "        return self.net_input(X)\n",
    "\n",
    "    def predict(self, X):\n",
    "        X = np.array(X)\n",
    "        \"\"\"Return class label after unit step\"\"\"\n",
    "        return np.where(self.activation(X) >= 0.0, 1, -1)"
   ]
  },
  {
   "cell_type": "code",
   "execution_count": 9,
   "id": "26980291-f235-47ea-8af9-e813c33efd2b",
   "metadata": {},
   "outputs": [
    {
     "data": {
      "text/plain": [
       "array([[    nan,     nan,     nan,     nan],\n",
       "       [  57.82,   26.13,   67.  , 2346.  ]])"
      ]
     },
     "execution_count": 9,
     "metadata": {},
     "output_type": "execute_result"
    }
   ],
   "source": [
    "previous_data[:2]"
   ]
  },
  {
   "cell_type": "code",
   "execution_count": 29,
   "id": "a783d07d-47fe-4385-88a2-cff4e9fe503f",
   "metadata": {},
   "outputs": [
    {
     "data": {
      "text/plain": [
       "799"
      ]
     },
     "execution_count": 29,
     "metadata": {},
     "output_type": "execute_result"
    }
   ],
   "source": [
    "len(y_prev)"
   ]
  },
  {
   "cell_type": "code",
   "execution_count": 30,
   "id": "65ec6c7c-f5b9-4105-a476-e9b5e2876dc0",
   "metadata": {},
   "outputs": [
    {
     "data": {
      "text/plain": [
       "799"
      ]
     },
     "execution_count": 30,
     "metadata": {},
     "output_type": "execute_result"
    }
   ],
   "source": [
    "len(X_prev)"
   ]
  },
  {
   "cell_type": "code",
   "execution_count": 27,
   "id": "1818045a-45e8-4ee0-8d16-f13537959132",
   "metadata": {},
   "outputs": [
    {
     "name": "stderr",
     "output_type": "stream",
     "text": [
      "/tmp/ipykernel_51824/4060703602.py:58: RuntimeWarning: overflow encountered in double_scalars\n",
      "  cost = 0.5 * error**2\n",
      "/tmp/ipykernel_51824/4060703602.py:56: RuntimeWarning: invalid value encountered in add\n",
      "  self.w_[1:] += self.eta * xi.dot(error)\n"
     ]
    }
   ],
   "source": [
    "test_iterations = 30\n",
    "previous_data = np.genfromtxt('model_input.csv', delimiter=',')\n",
    "incoming_data = np.genfromtxt('incoming_data.csv', delimiter=',')\n",
    "\n",
    "w0 = 718.91565187\n",
    "w1 = -18.87648056\n",
    "w2 = -25.9855236\n",
    "w3 = -27.87443884\n",
    "\n",
    "origin_clf = OriginalModel(w0, w1, w2, w3)\n",
    "new_clf = AdalineSGD()\n",
    "\n",
    "# train model initially\n",
    "X_prev = [x[:-1] for x in previous_data]\n",
    "y_prev = [x[len(x)-1:] for x in previous_data]\n",
    "\n",
    "# remove header row\n",
    "# change types\n",
    "X_prev = [list(map(float, x)) for x in X_prev[1:]]\n",
    "\n",
    "# change type of y to int\n",
    "y_prev = [int(y[0]) for y in y_prev[1:]]\n",
    "\n",
    "# train model\n",
    "new_clf.fit(X_prev, y_prev)\n",
    "\n",
    "for i in range(test_iterations):\n",
    "    pass\n",
    "    # compute model and update model incrimentally\n",
    "    \n",
    "    # original model predictions\n",
    "    "
   ]
  }
 ],
 "metadata": {
  "kernelspec": {
   "display_name": "python3.9",
   "language": "python",
   "name": "python3.9"
  },
  "language_info": {
   "codemirror_mode": {
    "name": "ipython",
    "version": 3
   },
   "file_extension": ".py",
   "mimetype": "text/x-python",
   "name": "python",
   "nbconvert_exporter": "python",
   "pygments_lexer": "ipython3",
   "version": "3.9.7"
  }
 },
 "nbformat": 4,
 "nbformat_minor": 5
}
